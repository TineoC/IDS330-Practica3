{
  "cells": [
    {
      "cell_type": "markdown",
      "metadata": {
        "id": "7f30-VO6XKgS"
      },
      "source": [
        "# Práctica 3\n",
        "\n",
        "**IDS330L, Feb-Abr 2023**\n",
        "\n",
        "1. Jugar con la estructura de la red (página 47 del libro)\n",
        "2. Cambiar a Tensorflow (paginas 50-55 del libro)\n"
      ]
    },
    {
      "cell_type": "code",
      "execution_count": null,
      "metadata": {
        "id": "eja-sgB-XKgV"
      },
      "outputs": [],
      "source": [
        "import numpy as np"
      ]
    },
    {
      "cell_type": "code",
      "execution_count": null,
      "metadata": {
        "id": "SafNmAXoXKgW"
      },
      "outputs": [],
      "source": [
        "class FullyConnectedLayer(object):\n",
        "    \"\"\"A simple fully-connected NN layer.\n",
        "    Args:\n",
        "        num_inputs (int): The input vector size / number of input values.\n",
        "        layer_size (int): The output vector size / number of neurons in the layer.\n",
        "        activation_function (callable): The activation function for this layer.\n",
        "    Attributes:\n",
        "        W (ndarray): The weight values for each input.\n",
        "        b (ndarray): The bias value, added to the weighted sum.\n",
        "        size (int): The layer size / number of neurons.\n",
        "        activation_function (callable): The activation function computing the neuron's output.\n",
        "        x (ndarray): The last provided input vector, stored for backpropagation.\n",
        "        y (ndarray): The corresponding output, also stored for backpropagation.\n",
        "        derivated_activation_function (callable): The corresponding derivated function for backpropagation.\n",
        "        dL_dW (ndarray): The derivative of the loss, with respect to the weights W.\n",
        "        dL_db (ndarray): The derivative of the loss, with respect to the bias b.\n",
        "    \"\"\"\n",
        "\n",
        "    def __init__(self, num_inputs, layer_size, activation_function, derivated_activation_function=None):\n",
        "        super().__init__()\n",
        "\n",
        "        # Randomly initializing the weight vector and the bias value (using a normal distribution this time):\n",
        "        self.W = np.random.standard_normal((num_inputs, layer_size))\n",
        "        self.b = np.random.standard_normal(layer_size)\n",
        "        self.size = layer_size\n",
        "\n",
        "        self.activation_function = activation_function\n",
        "        self.derivated_activation_function = derivated_activation_function\n",
        "        self.x, self.y = None, None\n",
        "        self.dL_dW, self.dL_db = None, None\n",
        "\n",
        "    def forward(self, x):\n",
        "        \"\"\"\n",
        "        Forward the input vector through the layer, returning its activation vector.\n",
        "        Args:\n",
        "            x (ndarray): The input vector, of shape `(batch_size, num_inputs)`\n",
        "        Returns:\n",
        "            activation (ndarray): The activation value, of shape `(batch_size, layer_size)`.\n",
        "        \"\"\"\n",
        "        z = np.dot(x, self.W) + self.b\n",
        "        self.y = self.activation_function(z)\n",
        "        self.x = x  # (we store the input and output values for back-propagation)\n",
        "        return self.y\n",
        "\n",
        "    def backward(self, dL_dy):\n",
        "        \"\"\"\n",
        "        Back-propagate the loss, computing all the derivatives, storing those w.r.t. the layer parameters,\n",
        "        and returning the loss w.r.t. its inputs for further propagation.\n",
        "        Args:\n",
        "            dL_dy (ndarray): The loss derivative w.r.t. the layer's output (dL/dy = l'_{k+1}).\n",
        "        Returns:\n",
        "            dL_dx (ndarray): The loss derivative w.r.t. the layer's input (dL/dx).\n",
        "        \"\"\"\n",
        "        dy_dz = self.derivated_activation_function(self.y)  # = f'\n",
        "        dL_dz = (dL_dy * dy_dz) # dL/dz = dL/dy * dy/dz = l'_{k+1} * f'\n",
        "        dz_dw = self.x.T\n",
        "        dz_dx = self.W.T\n",
        "        dz_db = np.ones(dL_dy.shape[0]) # dz/db = d(W.x + b)/db = 0 + db/db = \"ones\"-vector\n",
        "\n",
        "        # Computing the derivatives with respect to the layer's parameters, and storing them for opt. optimization:\n",
        "        self.dL_dW = np.dot(dz_dw, dL_dz)\n",
        "        self.dL_db = np.dot(dz_db, dL_dz)\n",
        "\n",
        "        # Computing the derivative with respect to the input, to be passed to the previous layers (their `dL_dy`):\n",
        "        dL_dx = np.dot(dL_dz, dz_dx)\n",
        "        return dL_dx\n",
        "\n",
        "    def optimize(self, epsilon):\n",
        "        \"\"\"\n",
        "        Optimize the layer's parameters, using the stored derivative values.\n",
        "        Args:\n",
        "            epsilon (float): The learning rate.\n",
        "        \"\"\"\n",
        "        self.W -= epsilon * self.dL_dW\n",
        "        self.b -= epsilon * self.dL_db  "
      ]
    },
    {
      "cell_type": "code",
      "execution_count": null,
      "metadata": {
        "id": "rlqP1b5rXKgX"
      },
      "outputs": [],
      "source": [
        "def sigmoid(x):             # sigmoid function\n",
        "    y = 1 / (1 + np.exp(-x))\n",
        "    return y\n",
        "\n",
        "\n",
        "def derivated_sigmoid(y):   # sigmoid derivative function\n",
        "    return y * (1 - y)\n",
        "\n",
        "def loss_L2(pred, target):             # L2 loss function\n",
        "    return np.sum(np.square(pred - target)) / pred.shape[0] # opt. we divide by the batch size\n",
        "\n",
        "\n",
        "def derivated_loss_L2(pred, target):   # L2 derivative function\n",
        "    return 2 * (pred - target)\n",
        "\n",
        "def binary_cross_entropy(pred, target):            # cross-entropy loss function\n",
        "    return -np.mean(np.multiply(np.log(pred), target) + np.multiply(np.log(1 - pred), (1 - target)))\n",
        "\n",
        "\n",
        "def derivated_binary_cross_entropy(pred, target):  # cross-entropy derivative function\n",
        "    return (pred - target) / (pred * (1 - pred))"
      ]
    },
    {
      "cell_type": "code",
      "execution_count": null,
      "metadata": {
        "id": "0kM5E2crXKgX"
      },
      "outputs": [],
      "source": [
        "class SimpleNetwork(object):\n",
        "    \"\"\"A simple fully-connected NN.\n",
        "    Args:\n",
        "        num_inputs (int): The input vector size / number of input values.\n",
        "        num_outputs (int): The output vector size.\n",
        "        hidden_layers_sizes (list): A list of sizes for each hidden layer to add to the network\n",
        "        activation_function (callable): The activation function for all the layers\n",
        "        derivated_activation_function (callable): The derivated activation function\n",
        "        loss_function (callable): The loss function to train this network\n",
        "        derivated_loss_function (callable): The derivative of the loss function, for back-propagation\n",
        "    Attributes:\n",
        "        layers (list): The list of layers forming this simple network.\n",
        "        loss_function (callable): The loss function to train this network.\n",
        "        derivated_loss_function (callable): The derivative of the loss function, for back-propagation.\n",
        "    \"\"\"\n",
        "\n",
        "    def __init__(self, num_inputs, num_outputs, hidden_layers_sizes=(64, 32),\n",
        "                 activation_function=sigmoid, derivated_activation_function=derivated_sigmoid,\n",
        "                 loss_function=loss_L2, derivated_loss_function=derivated_loss_L2):\n",
        "        super().__init__()\n",
        "        # We build the list of layers composing the network, according to the provided arguments:\n",
        "        layer_sizes = [num_inputs, *hidden_layers_sizes, num_outputs]\n",
        "        self.layers = [\n",
        "            FullyConnectedLayer(layer_sizes[i], layer_sizes[i + 1], \n",
        "                                activation_function, derivated_activation_function)\n",
        "            for i in range(len(layer_sizes) - 1)]\n",
        "\n",
        "        self.loss_function = loss_function\n",
        "        self.derivated_loss_function = derivated_loss_function\n",
        "\n",
        "    def forward(self, x):\n",
        "        \"\"\"\n",
        "        Forward the input vector through the layers, returning the output vector.\n",
        "        Args:\n",
        "            x (ndarray): The input vector, of shape `(batch_size, num_inputs)`.\n",
        "        Returns:\n",
        "            activation (ndarray): The output activation value, of shape `(batch_size, layer_size)`.\n",
        "        \"\"\"\n",
        "        for layer in self.layers: # from the input layer to the output one\n",
        "            x = layer.forward(x)\n",
        "        return x\n",
        "\n",
        "    def predict(self, x):\n",
        "        \"\"\"\n",
        "        Compute the output corresponding to input `x`, and return the index of the largest \n",
        "        output value.\n",
        "        Args:\n",
        "            x (ndarray): The input vector, of shape `(1, num_inputs)`.\n",
        "        Returns:\n",
        "            best_class (int): The predicted class ID.\n",
        "        \"\"\"\n",
        "        estimations = self.forward(x)\n",
        "        best_class = np.argmax(estimations)\n",
        "        return best_class\n",
        "\n",
        "    def backward(self, dL_dy):\n",
        "        \"\"\"\n",
        "        Back-propagate the loss hrough the layers (require `forward()` to be called before).\n",
        "        Args:\n",
        "            dL_dy (ndarray): The loss derivative w.r.t. the network's output (dL/dy).\n",
        "        Returns:\n",
        "            dL_dx (ndarray): The loss derivative w.r.t. the network's input (dL/dx).\n",
        "        \"\"\"\n",
        "        for layer in reversed(self.layers): # from the output layer to the input one\n",
        "            dL_dy = layer.backward(dL_dy)\n",
        "        return dL_dy\n",
        "\n",
        "    def optimize(self, epsilon):\n",
        "        \"\"\"\n",
        "        Optimize the network parameters according to the stored gradients (require `backward()`\n",
        "        to be called before).\n",
        "        Args:\n",
        "            epsilon (float): The learning rate.\n",
        "        \"\"\"\n",
        "        for layer in self.layers:             # the order doesn't matter here\n",
        "            layer.optimize(epsilon)\n",
        "\n",
        "    def evaluate_accuracy(self, X_val, y_val):\n",
        "        \"\"\"\n",
        "        Given a dataset and its ground-truth labels, evaluate the current accuracy of the network.\n",
        "        Args:\n",
        "            X_val (ndarray): The input validation dataset.\n",
        "            y_val (ndarray): The corresponding ground-truth validation dataset.\n",
        "        Returns:\n",
        "            accuracy (float): The accuracy of the network \n",
        "                              (= number of correct predictions/dataset size).\n",
        "        \"\"\"\n",
        "        num_corrects = 0\n",
        "        for i in range(len(X_val)):\n",
        "            pred_class = self.predict(X_val[i])\n",
        "            if pred_class == y_val[i]:\n",
        "                num_corrects += 1\n",
        "        return num_corrects / len(X_val)\n",
        "\n",
        "    def train(self, X_train, y_train, X_val=None, y_val=None, \n",
        "              batch_size=32, num_epochs=5, learning_rate=1e-3, print_frequency=20):\n",
        "        \"\"\"\n",
        "        Given a dataset and its ground-truth labels, evaluate the current accuracy of the network.\n",
        "        Args:\n",
        "            X_train (ndarray): The input training dataset.\n",
        "            y_train (ndarray): The corresponding ground-truth training dataset.\n",
        "            X_val (ndarray): The input validation dataset.\n",
        "            y_val (ndarray): The corresponding ground-truth validation dataset.\n",
        "            batch_size (int): The mini-batch size.\n",
        "            num_epochs (int): The number of training epochs i.e. iterations over the whole dataset.\n",
        "            learning_rate (float): The learning rate to scale the derivatives.\n",
        "            print_frequency (int): Frequency to print metrics (in epochs).\n",
        "        Returns:\n",
        "            losses (list): The list of training losses for each epoch.\n",
        "            accuracies (list): The list of validation accuracy values for each epoch.\n",
        "        \"\"\"\n",
        "        num_batches_per_epoch = len(X_train) // batch_size\n",
        "        do_validation = X_val is not None and y_val is not None\n",
        "        losses, accuracies = [], []\n",
        "        for i in range(num_epochs): # for each training epoch\n",
        "            epoch_loss = 0\n",
        "            for b in range(num_batches_per_epoch):  # for each batch composing the dataset\n",
        "                # Get batch:\n",
        "                batch_index_begin = b * batch_size\n",
        "                batch_index_end = batch_index_begin + batch_size\n",
        "                x = X_train[batch_index_begin: batch_index_end]\n",
        "                targets = y_train[batch_index_begin: batch_index_end]\n",
        "                # Optimize on batch:\n",
        "                predictions = y = self.forward(x)  # forward pass\n",
        "                L = self.loss_function(predictions, targets)  # loss computation\n",
        "                dL_dy = self.derivated_loss_function(predictions, targets)  # loss derivation\n",
        "                self.backward(dL_dy)  # back-propagation pass\n",
        "                self.optimize(learning_rate)  # optimization of the NN\n",
        "                epoch_loss += L\n",
        "\n",
        "            # Logging training loss and validation accuracy, to follow the training:\n",
        "            epoch_loss /= num_batches_per_epoch\n",
        "            losses.append(epoch_loss)\n",
        "            if do_validation:\n",
        "                accuracy = self.evaluate_accuracy(X_val, y_val)\n",
        "                accuracies.append(accuracy)\n",
        "            else:\n",
        "                accuracy = np.NaN\n",
        "            if i % print_frequency == 0 or i == (num_epochs - 1):\n",
        "                print(\"Epoch {:4d}: training loss = {:.6f} | val accuracy = {:.2f}%\".format(\n",
        "                    i, epoch_loss, accuracy * 100))\n",
        "        return losses, accuracies"
      ]
    },
    {
      "cell_type": "code",
      "execution_count": null,
      "metadata": {
        "colab": {
          "base_uri": "https://localhost:8080/"
        },
        "id": "y2fVPo40XKgY",
        "outputId": "6db29e1c-f6b7-42a0-aa3f-22f14e42bfe8"
      },
      "outputs": [
        {
          "output_type": "stream",
          "name": "stdout",
          "text": [
            "Pixel values between 0 and 255\n",
            "Normalized pixel values between 0.0 and 1.0\n"
          ]
        }
      ],
      "source": [
        "%matplotlib inline\n",
        "import matplotlib          # We use this package to visualize some data and results\n",
        "import matplotlib.pyplot as plt\n",
        "from keras.datasets import mnist \n",
        "\n",
        "np.random.seed(42)\n",
        "\n",
        "# Preparamos los datos de las imágenes\n",
        "(X_train, y_train), (X_test, y_test) = mnist.load_data()\n",
        "\n",
        "num_classes = 10    # classes are the digits from 0 to 9\n",
        "\n",
        "# Cambia las imágenes de matrices 28x28 a vectores 1x784\n",
        "X_train, X_test = X_train.reshape(-1, 28 * 28), X_test.reshape(-1, 28 * 28)\n",
        "print(\"Pixel values between {} and {}\".format(X_train.min(), X_train.max()))\n",
        "\n",
        "# Normaliza los vectores\n",
        "X_train, X_test = X_train / 255., X_test / 255.\n",
        "print(\"Normalized pixel values between {} and {}\".format(X_train.min(), X_train.max()))\n",
        "y_train = np.eye(num_classes)[y_train] \n"
      ]
    },
    {
      "cell_type": "markdown",
      "metadata": {
        "id": "Ggf9LKQOXKgZ"
      },
      "source": [
        "# Cambiar la estructura de la red\n",
        "\n",
        "Para cambiar la manera en la que la red predice la información, podemos variar la su composición interna, como la la cantidad de capas  ocultas o la función de activación.\n",
        "\n",
        "En este caso, manipularemos la cantidad o el tamaño de las capas, para determinar si esto tiene algún resultado distinto.\n",
        "\n",
        "Hay que tener cuidado con los tamaños de las redes, pues se cambian la cantidad de parámetros que hay que manipular (los coeficientes para las sumas y multiplicaciones).\n",
        "\n",
        "Podemos crear una red con una estructura específica con algo como\n",
        "\n",
        "```python\n",
        "clasificador_numeros = SimpleNetwork(num_inputs=X_train.shape[1], num_outputs=num_classes, hidden_layers_sizes=[64, 32])\n",
        "```\n",
        "\n",
        "donde las capas internas son de 64 y 32 neuronas respectivamente.\n",
        "\n",
        "Entrenamos el clasificador con algo como:\n",
        "\n",
        "```python\n",
        "print(\"Entrenando a 80 epochs:\")\n",
        "losses, accuracies = clasificador_numeros.train(X_train, y_train, X_test, y_test, batch_size=30, num_epochs=80)\n",
        "\n",
        "```"
      ]
    },
    {
      "cell_type": "markdown",
      "metadata": {
        "id": "a2GdYWVXXKgZ"
      },
      "source": [
        "Un dato importante a considerar es que nuestra clase `FullyConnectedLayer` para el clasificador está siendo creada con una capa de entrada con 784 neuronas (verifique probando el valor que devuelve `X_train.shape[1]`, que se usa al crear la red).\n",
        "\n",
        "Esto implica que la ecuación (pg. 33)\n",
        "\n",
        "$$ z = x \\cdot W + B $$\n",
        "\n",
        "donde $W$ y $B$ combinan los vectores de ganancias y bias de cada neurona, tiene una cantidad considerable de coeficientes (ganancias y bias) que calcular. Por tanto, hay que elegir apropiadamente el número y tamaño de capas ocultas."
      ]
    },
    {
      "cell_type": "markdown",
      "metadata": {
        "id": "CXetmg6lXKge"
      },
      "source": [
        "# Ejercicio"
      ]
    },
    {
      "cell_type": "markdown",
      "source": [
        "### 1. Analice y escriba cuántos coeficientes (ganancias y bias) se necesitan para una red que acepte como entrada 784 valores, tenga dos capas ocultas de 64 y 32 neuronas, y 10 neuronas en la capa de salida. Justifique."
      ],
      "metadata": {
        "id": "iGNBoR-RcioA"
      }
    },
    {
      "cell_type": "markdown",
      "source": [
        "Para determinar el número de coeficientes necesarios para la red neuronal descrita, es necesario contar los pesos y los sesgos (biases) de cada capa de la red.\n",
        "\n",
        "1. La primera capa oculta tiene 64 neuronas, cada una de las cuales acepta una entrada de 784 valores. Por lo tanto, hay un total de 784 x 64 pesos y 64 sesgos. Es decir, 50,176 pesos y 64 sesgos.\n",
        "\n",
        "2. La segunda capa oculta tiene 32 neuronas, cada una de las cuales está conectada a las 64 neuronas de la capa anterior. Por lo tanto, hay un total de 64 x 32 pesos y 32 sesgos. Es decir, 2,048 pesos y 32 sesgos.\n",
        "\n",
        "3. La capa de salida tiene 10 neuronas, cada una de las cuales está conectada a las 32 neuronas de la capa anterior. Por lo tanto, hay un total de 32 x 10 pesos y 10 sesgos. Es decir, 320 pesos y 10 sesgos.\n",
        "\n",
        "Por lo tanto, el número total de coeficientes necesarios para la red neuronal es la suma de los pesos y sesgos de todas las capas.\n",
        "\n",
        "#### **Total de pesos**: 50,176 + 2,048 + 320 = 52,544 pesos\n",
        "#### **Total de sesgos**: 64 + 32 + 10 = 106 sesgos\n",
        "\n",
        "**En resumen, se necesitan 52,544 pesos y 106 sesgos para la red neuronal descrita.**"
      ],
      "metadata": {
        "id": "32-GYivocspc"
      }
    },
    {
      "cell_type": "markdown",
      "source": [
        "### 2. Seleccione de 8 imágenes elegidas aleatoriamente de las imágenes de prueba `X_test`."
      ],
      "metadata": {
        "id": "oZGihykUddiY"
      }
    },
    {
      "cell_type": "code",
      "execution_count": null,
      "metadata": {
        "colab": {
          "base_uri": "https://localhost:8080/"
        },
        "id": "DF6iqtteXKgf",
        "outputId": "90b9e19f-ce12-48d3-b34c-ae65e40a0fed"
      },
      "outputs": [
        {
          "output_type": "stream",
          "name": "stdout",
          "text": [
            "Índices de las imágenes seleccionadas: [7270  860 5390 5191 5734 6265  466 4426]\n"
          ]
        }
      ],
      "source": [
        "indices_muestra_prueba = np.random.randint(0, X_test.shape[0], 8)\n",
        "print(\"Índices de las imágenes seleccionadas: {}\".format(indices_muestra_prueba))"
      ]
    },
    {
      "cell_type": "markdown",
      "source": [
        "### 3. Cree una red con dos capas internas de 64 neuronas, entrenela a por lo menos 100 `epochs` y pruébela con las 8 imágenes"
      ],
      "metadata": {
        "id": "LI0S79l0esn8"
      }
    },
    {
      "cell_type": "code",
      "execution_count": null,
      "metadata": {
        "id": "R3wYdQJ-XKgg"
      },
      "outputs": [],
      "source": [
        "red_64x64 = SimpleNetwork(num_inputs=X_train.shape[1], \n",
        "                                 num_outputs=num_classes, hidden_layers_sizes=[64, 64])"
      ]
    },
    {
      "cell_type": "code",
      "execution_count": null,
      "metadata": {
        "id": "yWqAsIjwXKgg",
        "colab": {
          "base_uri": "https://localhost:8080/"
        },
        "outputId": "14b76937-c5d4-4e39-edcc-74d695f47297"
      },
      "outputs": [
        {
          "output_type": "stream",
          "name": "stdout",
          "text": [
            "Entrenando a 100 epochs:\n",
            "Epoch    0: training loss = 1.813961 | val accuracy = 10.10%\n",
            "Epoch   20: training loss = 0.233353 | val accuracy = 85.92%\n",
            "Epoch   40: training loss = 0.165759 | val accuracy = 89.67%\n",
            "Epoch   60: training loss = 0.137067 | val accuracy = 91.22%\n",
            "Epoch   80: training loss = 0.120047 | val accuracy = 91.95%\n",
            "Epoch   99: training loss = 0.108769 | val accuracy = 92.50%\n"
          ]
        }
      ],
      "source": [
        "print(\"Entrenando dos capas internas de 64 neuronas a 100 epochs:\")\n",
        "losses, accuracies = red_64x64.train(X_train, y_train, X_test, y_test, \n",
        "                                            batch_size=30, num_epochs=100) "
      ]
    },
    {
      "cell_type": "code",
      "execution_count": null,
      "metadata": {
        "colab": {
          "base_uri": "https://localhost:8080/"
        },
        "id": "BD0gYsfaXKgg",
        "outputId": "b13b7cac-f475-4b6a-9b48-d46914ec937c"
      },
      "outputs": [
        {
          "output_type": "stream",
          "name": "stdout",
          "text": [
            "Pruebando red de 64+64 :\n",
            "Predicted class: 1; Correct class: 1\n",
            "Predicted class: 6; Correct class: 6\n",
            "Predicted class: 2; Correct class: 2\n",
            "Predicted class: 4; Correct class: 4\n",
            "Predicted class: 7; Correct class: 3\n",
            "Predicted class: 4; Correct class: 4\n",
            "Predicted class: 8; Correct class: 8\n",
            "Predicted class: 9; Correct class: 9\n"
          ]
        }
      ],
      "source": [
        "print(\"Probando red de dos capas internas de 64 neuronas :\")\n",
        "# Predecir el número mostrado en cada una de las 8 imágenes\n",
        "for img in indices_muestra_prueba:\n",
        "    predicted_class = red_64x64.predict(np.expand_dims(X_test[img], 0))\n",
        "    print('Predicted class: {}; Correct class: {}'.format(predicted_class, y_test[img]))\n"
      ]
    },
    {
      "cell_type": "markdown",
      "source": [
        "### 4. Cree una red con dos capas internas de 32 y 64,  entrene a por lo menos 100 `epochs` y pruébela con las 8 imágenes\n"
      ],
      "metadata": {
        "id": "iJLsDPfbg9BB"
      }
    },
    {
      "cell_type": "code",
      "execution_count": null,
      "metadata": {
        "id": "NJnrkZkjg9BB"
      },
      "outputs": [],
      "source": [
        "red_32x64 = SimpleNetwork(num_inputs=X_train.shape[1], \n",
        "                                 num_outputs=num_classes, hidden_layers_sizes=[32, 64])"
      ]
    },
    {
      "cell_type": "code",
      "execution_count": null,
      "metadata": {
        "colab": {
          "base_uri": "https://localhost:8080/"
        },
        "id": "l5DIdeQlg9BB",
        "outputId": "b4bc7859-3908-475f-c36d-e9bf378690f7"
      },
      "outputs": [
        {
          "output_type": "stream",
          "name": "stdout",
          "text": [
            "Entrenando a 100 epochs:\n",
            "Epoch    0: training loss = 0.986174 | val accuracy = 33.18%\n",
            "Epoch   20: training loss = 0.404536 | val accuracy = 69.58%\n",
            "Epoch   40: training loss = 0.288028 | val accuracy = 78.93%\n",
            "Epoch   60: training loss = 0.162546 | val accuracy = 89.93%\n",
            "Epoch   80: training loss = 0.138734 | val accuracy = 91.07%\n",
            "Epoch   99: training loss = 0.124725 | val accuracy = 91.82%\n"
          ]
        }
      ],
      "source": [
        "print(\"Entrenando a 100 epochs:\")\n",
        "losses, accuracies = red_32x64.train(X_train, y_train, X_test, y_test, \n",
        "                                            batch_size=30, num_epochs=100) "
      ]
    },
    {
      "cell_type": "code",
      "execution_count": null,
      "metadata": {
        "colab": {
          "base_uri": "https://localhost:8080/"
        },
        "id": "JsZJkIeUg9BD",
        "outputId": "a25f064d-3b99-4ce2-ee18-e8a179fd7bef"
      },
      "outputs": [
        {
          "output_type": "stream",
          "name": "stdout",
          "text": [
            "Probando red de 32+64 neuronas:\n",
            "Predicted class: 1; Correct class: 1\n",
            "Predicted class: 6; Correct class: 6\n",
            "Predicted class: 2; Correct class: 2\n",
            "Predicted class: 4; Correct class: 4\n",
            "Predicted class: 7; Correct class: 3\n",
            "Predicted class: 4; Correct class: 4\n",
            "Predicted class: 8; Correct class: 8\n",
            "Predicted class: 9; Correct class: 9\n"
          ]
        }
      ],
      "source": [
        "print(\"Probando red de 32+64 neuronas:\")\n",
        "# Predecir el número mostrado en cada una de las 8 imágenes\n",
        "for img in indices_muestra_prueba:\n",
        "    predicted_class = red_32x64.predict(np.expand_dims(X_test[img], 0))\n",
        "    print('Predicted class: {}; Correct class: {}'.format(predicted_class, y_test[img]))\n"
      ]
    },
    {
      "cell_type": "markdown",
      "source": [
        "### 5. Cree una red con una capa interna de 128 neuronas,  entrene a por lo menos 100 `epochs` y pruébela con las 8 imágenes.\n"
      ],
      "metadata": {
        "id": "tihAl81CfZId"
      }
    },
    {
      "cell_type": "code",
      "execution_count": null,
      "metadata": {
        "id": "fSbtYteofg3x"
      },
      "outputs": [],
      "source": [
        "red_128 = SimpleNetwork(num_inputs=X_train.shape[1], \n",
        "                                 num_outputs=num_classes, hidden_layers_sizes=[128])"
      ]
    },
    {
      "cell_type": "code",
      "execution_count": null,
      "metadata": {
        "colab": {
          "base_uri": "https://localhost:8080/"
        },
        "id": "gKkpyc58fg3y",
        "outputId": "f46d0c76-57ff-4498-fd07-2d6c695c8f3f"
      },
      "outputs": [
        {
          "output_type": "stream",
          "name": "stdout",
          "text": [
            "Entrenando a 100 epochs:\n",
            "Epoch    0: training loss = 1.109149 | val accuracy = 18.48%\n",
            "Epoch   20: training loss = 0.492672 | val accuracy = 60.69%\n",
            "Epoch   40: training loss = 0.427887 | val accuracy = 64.37%\n",
            "Epoch   60: training loss = 0.332027 | val accuracy = 74.06%\n",
            "Epoch   80: training loss = 0.238351 | val accuracy = 83.16%\n",
            "Epoch   99: training loss = 0.215936 | val accuracy = 83.98%\n"
          ]
        }
      ],
      "source": [
        "print(\"Entrenando a 100 epochs:\")\n",
        "losses, accuracies = red_128.train(X_train, y_train, X_test, y_test, \n",
        "                                            batch_size=30, num_epochs=100) "
      ]
    },
    {
      "cell_type": "code",
      "execution_count": null,
      "metadata": {
        "colab": {
          "base_uri": "https://localhost:8080/"
        },
        "id": "dYqr6Saffg3z",
        "outputId": "b9e284fc-5fc0-4998-912e-e4371efb69a1"
      },
      "outputs": [
        {
          "output_type": "stream",
          "name": "stdout",
          "text": [
            "Probando red de 128 neuronas:\n",
            "Predicted class: 1; Correct class: 1\n",
            "Predicted class: 6; Correct class: 6\n",
            "Predicted class: 2; Correct class: 2\n",
            "Predicted class: 4; Correct class: 4\n",
            "Predicted class: 4; Correct class: 3\n",
            "Predicted class: 4; Correct class: 4\n",
            "Predicted class: 8; Correct class: 8\n",
            "Predicted class: 4; Correct class: 9\n"
          ]
        }
      ],
      "source": [
        "print(\"Probando red de 128 neuronas:\")\n",
        "# Predecir el número mostrado en cada una de las 8 imágenes\n",
        "for img in indices_muestra_prueba:\n",
        "    predicted_class = red_128.predict(np.expand_dims(X_test[img], 0))\n",
        "    print('Predicted class: {}; Correct class: {}'.format(predicted_class, y_test[img]))\n"
      ]
    },
    {
      "cell_type": "markdown",
      "source": [
        "### 6. Compare los resultados, ¿qué diferencia cree que haya entre cada una?"
      ],
      "metadata": {
        "id": "-Ahuu3O9fobx"
      }
    },
    {
      "cell_type": "markdown",
      "source": [
        "#### Resultados\n",
        "\n",
        "*Asumiendo que todas fueron probadas con 8 imagenes y 100 epochs*\n",
        "\n",
        "1. Red 64x64: 92.50% Accuracy\n",
        "2. Red 32*64: 91.82% Accuracy\n",
        "3. Red 128: 83.98% Accuracy\n",
        "\n",
        "Podemos ver que los mejores reusultados se obtuvieron con dos capas de 64 neuronas lo que nos confirma que una gran capa de neuronas no nos sirve para nuestro modelo de predicción de números naturales.\n",
        "\n",
        "**Los mejores resultados deben estar en una o más capas de unas 32 a 64 neuronas**"
      ],
      "metadata": {
        "id": "HekzZVSugLYZ"
      }
    },
    {
      "cell_type": "markdown",
      "source": [
        "### 7. ¿Cuántos coeficientes hubo en cada una?\n"
      ],
      "metadata": {
        "id": "0h_av9ZJh8jZ"
      }
    },
    {
      "cell_type": "markdown",
      "source": [
        "#### Coeficientes\n",
        "\n",
        "##### **Red 64x64**\n",
        "\n",
        "**Total de pesos**\n",
        "1. Capa 1: 784 * 64 = 50,176 pesos\n",
        "2. Capa 2: 784 * 64 = 50,176 pesos\n",
        "\n",
        "**50,176 * 2 = 100,352 pesos**\n",
        "\n",
        "**Total de bias**\n",
        "1. Capa 1: 64 = 64 bias\n",
        "2. Capa 2: 64 = 64 bias\n",
        "\n",
        "**64 * 2 = 128 bias**\n",
        "\n",
        "##### **Red 32*64**\n",
        "\n",
        "**Total de pesos**\n",
        "1. Capa 1: 784 * 32 = 25,088 pesos\n",
        "2. Capa 2: 784 * 64 = 50,176 pesos\n",
        "\n",
        "**25,088 + 50,176 = 75,264 pesos**\n",
        "\n",
        "**Total de bias**\n",
        "1. Capa 1: 32 = 64 bias\n",
        "2. Capa 2: 64 = 64 bias\n",
        "\n",
        "**32 + 64 = 96 bias**\n",
        "\n",
        "##### **Red 128**\n",
        "\n",
        "**Total de pesos**\n",
        "1. Capa 1: 784 * 128 = 100,352 pesos\n",
        "\n",
        "**100,352 pesos**\n",
        "\n",
        "**Total de bias**\n",
        "1. Capa 1: 128 = 128 bias\n",
        "\n",
        "**128 bias**"
      ],
      "metadata": {
        "id": "1ennneF4nwvB"
      }
    },
    {
      "cell_type": "markdown",
      "source": [
        "### 8. Corra el código debajo, basado en _Tensorflow_ (**explicado en pgs. 50-55** del libro) y compare la precisión de validación (`val_accuracy`) y el número de _epochs_ con la red del punto 5. Ambas tienen la misma estructura.\n"
      ],
      "metadata": {
        "id": "A55OR20wiOi-"
      }
    },
    {
      "cell_type": "markdown",
      "metadata": {
        "id": "EZ8MSzGhXKgg"
      },
      "source": [
        "## Trabajar con Tensorflow\n",
        "\n",
        "\n",
        "Usaremos _Tensorflow_ para la misma tarea, siguiendo el ejemplo del libro. En este caso, la librería incluye su versión de las imágenes del set de datos MNIST con el que hemos trabajado."
      ]
    },
    {
      "cell_type": "code",
      "execution_count": null,
      "metadata": {
        "id": "7vmoA6TiXKgh"
      },
      "outputs": [],
      "source": [
        "import tensorflow as tf"
      ]
    },
    {
      "cell_type": "markdown",
      "metadata": {
        "id": "tv3HdsSVXKgh"
      },
      "source": [
        "Preparar las imágenes. Necesita conexión a internet para la primera vez."
      ]
    },
    {
      "cell_type": "code",
      "execution_count": null,
      "metadata": {
        "id": "tuq1U0OwXKgh"
      },
      "outputs": [],
      "source": [
        "num_classes = 10\n",
        "img_rows, img_cols = 28, 28\n",
        "num_channels = 1\n",
        "input_shape = (img_rows, img_cols, num_channels)\n",
        "\n",
        "(x_train, y_train),(x_test, y_test) = tf.keras.datasets.mnist.load_data()\n",
        "x_train, x_test = x_train / 255.0, x_test / 255.0"
      ]
    },
    {
      "cell_type": "markdown",
      "metadata": {
        "id": "7rtO4QZ3XKgi"
      },
      "source": [
        "### Modelo simple de una red clasificadora\n",
        "\n",
        "Este modelo se explica en la página 53 del libro."
      ]
    },
    {
      "cell_type": "code",
      "execution_count": null,
      "metadata": {
        "id": "eGZvx_yVXKgi"
      },
      "outputs": [],
      "source": [
        "model = tf.keras.models.Sequential()\n",
        "model.add(tf.keras.layers.Flatten())\n",
        "model.add(tf.keras.layers.Dense(128, activation='relu'))\n",
        "model.add(tf.keras.layers.Dense(num_classes, activation='softmax'))"
      ]
    },
    {
      "cell_type": "markdown",
      "metadata": {
        "id": "A9pHaFOeXKgi"
      },
      "source": [
        "### Entrenamiento de una red en TensorFlow\n",
        "\n",
        "Explicado en la página 54.\n",
        "\n",
        "El método `compile()` debe ser llamado antes del entrenamiento (método `fit()`).\n",
        "\n"
      ]
    },
    {
      "cell_type": "code",
      "execution_count": null,
      "metadata": {
        "id": "Hu1io4JnXKgi",
        "colab": {
          "base_uri": "https://localhost:8080/"
        },
        "outputId": "a2150b25-098f-46b5-a169-18f6e12eceba"
      },
      "outputs": [
        {
          "output_type": "stream",
          "name": "stdout",
          "text": [
            "Epoch 1/25\n",
            "1875/1875 [==============================] - 7s 4ms/step - loss: 0.6750 - accuracy: 0.8310 - val_loss: 0.3593 - val_accuracy: 0.9011\n",
            "Epoch 2/25\n",
            "1875/1875 [==============================] - 6s 3ms/step - loss: 0.3390 - accuracy: 0.9068 - val_loss: 0.2934 - val_accuracy: 0.9196\n",
            "Epoch 3/25\n",
            "1875/1875 [==============================] - 8s 4ms/step - loss: 0.2888 - accuracy: 0.9192 - val_loss: 0.2618 - val_accuracy: 0.9268\n",
            "Epoch 4/25\n",
            "1875/1875 [==============================] - 9s 5ms/step - loss: 0.2581 - accuracy: 0.9274 - val_loss: 0.2360 - val_accuracy: 0.9317\n",
            "Epoch 5/25\n",
            "1875/1875 [==============================] - 6s 3ms/step - loss: 0.2348 - accuracy: 0.9344 - val_loss: 0.2198 - val_accuracy: 0.9367\n",
            "Epoch 6/25\n",
            "1875/1875 [==============================] - 8s 4ms/step - loss: 0.2164 - accuracy: 0.9395 - val_loss: 0.2016 - val_accuracy: 0.9419\n",
            "Epoch 7/25\n",
            "1875/1875 [==============================] - 8s 4ms/step - loss: 0.2005 - accuracy: 0.9435 - val_loss: 0.1890 - val_accuracy: 0.9451\n",
            "Epoch 8/25\n",
            "1875/1875 [==============================] - 9s 5ms/step - loss: 0.1873 - accuracy: 0.9477 - val_loss: 0.1793 - val_accuracy: 0.9475\n",
            "Epoch 9/25\n",
            "1875/1875 [==============================] - 8s 4ms/step - loss: 0.1758 - accuracy: 0.9503 - val_loss: 0.1683 - val_accuracy: 0.9509\n",
            "Epoch 10/25\n",
            "1875/1875 [==============================] - 9s 5ms/step - loss: 0.1654 - accuracy: 0.9536 - val_loss: 0.1601 - val_accuracy: 0.9525\n",
            "Epoch 11/25\n",
            "1875/1875 [==============================] - 8s 4ms/step - loss: 0.1565 - accuracy: 0.9560 - val_loss: 0.1520 - val_accuracy: 0.9553\n",
            "Epoch 12/25\n",
            "1875/1875 [==============================] - 8s 4ms/step - loss: 0.1483 - accuracy: 0.9588 - val_loss: 0.1452 - val_accuracy: 0.9575\n",
            "Epoch 13/25\n",
            "1875/1875 [==============================] - 7s 3ms/step - loss: 0.1411 - accuracy: 0.9602 - val_loss: 0.1403 - val_accuracy: 0.9600\n",
            "Epoch 14/25\n",
            "1875/1875 [==============================] - 8s 4ms/step - loss: 0.1344 - accuracy: 0.9624 - val_loss: 0.1339 - val_accuracy: 0.9611\n",
            "Epoch 15/25\n",
            "1875/1875 [==============================] - 8s 4ms/step - loss: 0.1284 - accuracy: 0.9645 - val_loss: 0.1300 - val_accuracy: 0.9622\n",
            "Epoch 16/25\n",
            "1875/1875 [==============================] - 8s 4ms/step - loss: 0.1230 - accuracy: 0.9657 - val_loss: 0.1264 - val_accuracy: 0.9639\n",
            "Epoch 17/25\n",
            "1875/1875 [==============================] - 9s 5ms/step - loss: 0.1180 - accuracy: 0.9668 - val_loss: 0.1225 - val_accuracy: 0.9645\n",
            "Epoch 18/25\n",
            "1875/1875 [==============================] - 7s 4ms/step - loss: 0.1134 - accuracy: 0.9683 - val_loss: 0.1189 - val_accuracy: 0.9643\n",
            "Epoch 19/25\n",
            "1875/1875 [==============================] - 8s 4ms/step - loss: 0.1092 - accuracy: 0.9696 - val_loss: 0.1164 - val_accuracy: 0.9659\n",
            "Epoch 20/25\n",
            "1875/1875 [==============================] - 8s 4ms/step - loss: 0.1054 - accuracy: 0.9710 - val_loss: 0.1121 - val_accuracy: 0.9675\n",
            "Epoch 21/25\n",
            "1875/1875 [==============================] - 7s 4ms/step - loss: 0.1017 - accuracy: 0.9719 - val_loss: 0.1083 - val_accuracy: 0.9681\n",
            "Epoch 22/25\n",
            "1875/1875 [==============================] - 8s 4ms/step - loss: 0.0981 - accuracy: 0.9731 - val_loss: 0.1068 - val_accuracy: 0.9692\n",
            "Epoch 23/25\n",
            "1875/1875 [==============================] - 8s 4ms/step - loss: 0.0950 - accuracy: 0.9740 - val_loss: 0.1040 - val_accuracy: 0.9694\n",
            "Epoch 24/25\n",
            "1875/1875 [==============================] - 8s 4ms/step - loss: 0.0920 - accuracy: 0.9751 - val_loss: 0.1029 - val_accuracy: 0.9694\n",
            "Epoch 25/25\n",
            "1875/1875 [==============================] - 9s 5ms/step - loss: 0.0891 - accuracy: 0.9756 - val_loss: 0.1005 - val_accuracy: 0.9704\n"
          ]
        },
        {
          "output_type": "execute_result",
          "data": {
            "text/plain": [
              "<keras.callbacks.History at 0x7fef1b7ca820>"
            ]
          },
          "metadata": {},
          "execution_count": 93
        }
      ],
      "source": [
        "model.compile(optimizer='sgd',\n",
        "              loss='sparse_categorical_crossentropy',\n",
        "              metrics=['accuracy'])\n",
        "callbacks = [tf.keras.callbacks.TensorBoard('./keras')]\n",
        "model.fit(x_train, y_train, epochs=25, verbose=1, validation_data=(x_test, y_test), callbacks=callbacks)"
      ]
    },
    {
      "cell_type": "markdown",
      "source": [
        "![2023-03-12_14-09.png](data:image/png;base64,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)"
      ],
      "metadata": {
        "id": "06f0JwyzA3Of"
      }
    },
    {
      "cell_type": "markdown",
      "source": [
        "# Resultados"
      ],
      "metadata": {
        "id": "iBJeDQWFBIBL"
      }
    },
    {
      "cell_type": "markdown",
      "source": [
        "### Aqui estamos probando nuestro modelo con 50 imagenes"
      ],
      "metadata": {
        "id": "Dvy2RwHaHLkc"
      }
    },
    {
      "cell_type": "code",
      "source": [
        "random_list = np.random.randint(0, 11, size=50)\n"
      ],
      "metadata": {
        "id": "33t8fHK7EAoG"
      },
      "execution_count": null,
      "outputs": []
    },
    {
      "cell_type": "code",
      "source": [
        "for number in random_list:\n",
        "  image_index = 0\n",
        "  test_image = x_test[number]\n",
        "  test_label = y_test[number]\n",
        "\n",
        "  # Reshape the image to match the input shape of the model\n",
        "  test_image = test_image.reshape(1, img_rows, img_cols, num_channels)\n",
        "\n",
        "  # Use the model to predict the class of the image\n",
        "  predicted_probs = model.predict(test_image)\n",
        "  predicted_class = tf.argmax(predicted_probs, axis=1)[0].numpy()\n",
        "\n",
        "  # Print the results\n",
        "  print('Test image label:', test_label)\n",
        "  print('Predicted class:', predicted_class)"
      ],
      "metadata": {
        "colab": {
          "base_uri": "https://localhost:8080/"
        },
        "id": "S8z27BgBCZWz",
        "outputId": "f7a6c4e7-00db-4fb7-89f9-8fb4b136b89b"
      },
      "execution_count": null,
      "outputs": [
        {
          "output_type": "stream",
          "name": "stdout",
          "text": [
            "1/1 [==============================] - 0s 42ms/step\n",
            "Test image label: 9\n",
            "Predicted class: 9\n",
            "1/1 [==============================] - 0s 40ms/step\n",
            "Test image label: 0\n",
            "Predicted class: 0\n",
            "1/1 [==============================] - 0s 43ms/step\n",
            "Test image label: 9\n",
            "Predicted class: 9\n",
            "1/1 [==============================] - 0s 42ms/step\n",
            "Test image label: 9\n",
            "Predicted class: 9\n",
            "1/1 [==============================] - 0s 41ms/step\n",
            "Test image label: 7\n",
            "Predicted class: 7\n",
            "1/1 [==============================] - 0s 43ms/step\n",
            "Test image label: 4\n",
            "Predicted class: 4\n",
            "1/1 [==============================] - 0s 44ms/step\n",
            "Test image label: 4\n",
            "Predicted class: 4\n",
            "1/1 [==============================] - 0s 46ms/step\n",
            "Test image label: 9\n",
            "Predicted class: 9\n",
            "1/1 [==============================] - 0s 65ms/step\n",
            "Test image label: 7\n",
            "Predicted class: 7\n",
            "1/1 [==============================] - 0s 39ms/step\n",
            "Test image label: 1\n",
            "Predicted class: 1\n",
            "1/1 [==============================] - 0s 45ms/step\n",
            "Test image label: 1\n",
            "Predicted class: 1\n",
            "1/1 [==============================] - 0s 34ms/step\n",
            "Test image label: 4\n",
            "Predicted class: 4\n",
            "1/1 [==============================] - 0s 39ms/step\n",
            "Test image label: 4\n",
            "Predicted class: 4\n",
            "1/1 [==============================] - 0s 27ms/step\n",
            "Test image label: 9\n",
            "Predicted class: 9\n",
            "1/1 [==============================] - 0s 30ms/step\n",
            "Test image label: 4\n",
            "Predicted class: 4\n",
            "1/1 [==============================] - 0s 30ms/step\n",
            "Test image label: 0\n",
            "Predicted class: 0\n",
            "1/1 [==============================] - 0s 34ms/step\n",
            "Test image label: 5\n",
            "Predicted class: 6\n",
            "1/1 [==============================] - 0s 31ms/step\n",
            "Test image label: 0\n",
            "Predicted class: 0\n",
            "1/1 [==============================] - 0s 31ms/step\n",
            "Test image label: 4\n",
            "Predicted class: 4\n",
            "1/1 [==============================] - 0s 27ms/step\n",
            "Test image label: 1\n",
            "Predicted class: 1\n",
            "1/1 [==============================] - 0s 30ms/step\n",
            "Test image label: 4\n",
            "Predicted class: 4\n",
            "1/1 [==============================] - 0s 30ms/step\n",
            "Test image label: 4\n",
            "Predicted class: 4\n",
            "1/1 [==============================] - 0s 29ms/step\n",
            "Test image label: 9\n",
            "Predicted class: 9\n",
            "1/1 [==============================] - 0s 40ms/step\n",
            "Test image label: 4\n",
            "Predicted class: 4\n",
            "1/1 [==============================] - 0s 37ms/step\n",
            "Test image label: 4\n",
            "Predicted class: 4\n",
            "1/1 [==============================] - 0s 31ms/step\n",
            "Test image label: 1\n",
            "Predicted class: 1\n",
            "1/1 [==============================] - 0s 33ms/step\n",
            "Test image label: 9\n",
            "Predicted class: 9\n",
            "1/1 [==============================] - 0s 31ms/step\n",
            "Test image label: 7\n",
            "Predicted class: 7\n",
            "1/1 [==============================] - 0s 42ms/step\n",
            "Test image label: 4\n",
            "Predicted class: 4\n",
            "1/1 [==============================] - 0s 35ms/step\n",
            "Test image label: 0\n",
            "Predicted class: 0\n",
            "1/1 [==============================] - 0s 32ms/step\n",
            "Test image label: 1\n",
            "Predicted class: 1\n",
            "1/1 [==============================] - 0s 28ms/step\n",
            "Test image label: 9\n",
            "Predicted class: 9\n",
            "1/1 [==============================] - 0s 31ms/step\n",
            "Test image label: 5\n",
            "Predicted class: 6\n",
            "1/1 [==============================] - 0s 37ms/step\n",
            "Test image label: 0\n",
            "Predicted class: 0\n",
            "1/1 [==============================] - 0s 28ms/step\n",
            "Test image label: 9\n",
            "Predicted class: 9\n",
            "1/1 [==============================] - 0s 30ms/step\n",
            "Test image label: 0\n",
            "Predicted class: 0\n",
            "1/1 [==============================] - 0s 30ms/step\n",
            "Test image label: 1\n",
            "Predicted class: 1\n",
            "1/1 [==============================] - 0s 27ms/step\n",
            "Test image label: 5\n",
            "Predicted class: 6\n",
            "1/1 [==============================] - 0s 30ms/step\n",
            "Test image label: 2\n",
            "Predicted class: 2\n",
            "1/1 [==============================] - 0s 25ms/step\n",
            "Test image label: 0\n",
            "Predicted class: 0\n",
            "1/1 [==============================] - 0s 26ms/step\n",
            "Test image label: 5\n",
            "Predicted class: 6\n",
            "1/1 [==============================] - 0s 27ms/step\n",
            "Test image label: 7\n",
            "Predicted class: 7\n",
            "1/1 [==============================] - 0s 29ms/step\n",
            "Test image label: 2\n",
            "Predicted class: 2\n",
            "1/1 [==============================] - 0s 29ms/step\n",
            "Test image label: 4\n",
            "Predicted class: 4\n",
            "1/1 [==============================] - 0s 28ms/step\n",
            "Test image label: 4\n",
            "Predicted class: 4\n",
            "1/1 [==============================] - 0s 31ms/step\n",
            "Test image label: 2\n",
            "Predicted class: 2\n",
            "1/1 [==============================] - 0s 27ms/step\n",
            "Test image label: 2\n",
            "Predicted class: 2\n",
            "1/1 [==============================] - 0s 31ms/step\n",
            "Test image label: 2\n",
            "Predicted class: 2\n",
            "1/1 [==============================] - 0s 27ms/step\n",
            "Test image label: 1\n",
            "Predicted class: 1\n",
            "1/1 [==============================] - 0s 29ms/step\n",
            "Test image label: 9\n",
            "Predicted class: 9\n"
          ]
        }
      ]
    }
  ],
  "metadata": {
    "colab": {
      "provenance": []
    },
    "kernelspec": {
      "display_name": "Python 3.10.9 ('ids-ai')",
      "language": "python",
      "name": "python3"
    },
    "language_info": {
      "codemirror_mode": {
        "name": "ipython",
        "version": 3
      },
      "file_extension": ".py",
      "mimetype": "text/x-python",
      "name": "python",
      "nbconvert_exporter": "python",
      "pygments_lexer": "ipython3",
      "version": "3.10.9"
    },
    "vscode": {
      "interpreter": {
        "hash": "f601792c76910078458e470cd9c93a0ebec751bec328425a1820cc8688c8ca05"
      }
    }
  },
  "nbformat": 4,
  "nbformat_minor": 0
}